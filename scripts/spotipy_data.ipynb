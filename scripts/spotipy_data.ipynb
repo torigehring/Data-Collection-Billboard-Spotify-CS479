{
 "cells": [
  {
   "cell_type": "code",
   "execution_count": 24,
   "metadata": {},
   "outputs": [],
   "source": [
    "import spotipy\n",
    "import spotipy.util as util\n",
    "import sys\n",
    "import csv\n",
    "import json\n",
    "import pandas\n",
    "import re"
   ]
  },
  {
   "cell_type": "code",
   "execution_count": 27,
   "metadata": {},
   "outputs": [
    {
     "name": "stdout",
     "output_type": "stream",
     "text": [
      "['song\\n', \"['Uptown Funk']\\n\", \"['Thinking Out Loud']\\n\", \"['See You Again']\\n\", \"['Trap Queen']\\n\", \"['Sugar']\\n\", \"['Shut Up and Dance']\\n\", \"['Blank Space']\\n\", \"['Watch Me']\\n\", \"['Earned It']\\n\", \"['The Hills']\\n\", \"['Cheerleader']\\n\", '\"[\"\"Can\\'t Feel My Face\"\"]\"\\n', \"['Love Me Like You Do']\\n\", \"['Take Me to Church']\\n\", \"['Bad Blood']\\n\", \"['Lean On']\\n\", \"['Want to Want Me']\\n\", \"['Shake It Off']\\n\", \"['Where Are Ãœ Now']\\n\", \"['Fight Song']\\n\", \"['679']\\n\", \"['Lips Are Movin']\\n\", \"['Worth It']\\n\", \"['Post to Be']\\n\", '\"[\"\"Honey', '\"[\"\"I\\'m Not the Only One\"\"]\"\\n', \"['Good for You']\\n\", \"['All About That Bass']\\n\", \"['Style']\\n\", \"['Hotline Bling']\\n\", \"['Hey Mama']\\n\", \"['G.D.F.R.']\\n\", \"['What Do You Mean?']\\n\", \"['Photograph']\\n\", \"['Hello']\\n\", \"['Stitches']\\n\", \"['Talking Body']\\n\", \"['Jealous']\\n\", \"['Time of Our Lives']\\n\", \"['Locked Away']\\n\", \"['Somebody']\\n\", \"['FourFiveSeconds']\\n\", \"['Centuries']\\n\", \"['My Way']\\n\", \"['Take Your Time']\\n\", \"['Animals']\\n\", '\"[\"\"I Don\\'t Fuck with You\"\"]\"\\n', \"['Bitch Better Have My Money']\\n\", '\"[\\'Flex (Ooh', \"['Nasty Freestyle']\\n\", \"['Only']\\n\", \"['Elastic Heart']\\n\", \"['Cool for the Summer']\\n\", \"['Renegades']\\n\", '\"[\"\"I Don\\'t Mind\"\"]\"\\n', \"['Love Me Harder']\\n\", \"['Wildest Dreams']\\n\", \"['Stay with Me']\\n\", \"['You Know You Like It']\\n\", \"['Uma Thurman']\\n\", \"['7/11']\\n\", \"['The Heart Wants What It Wants']\\n\", \"['Girl Crush']\\n\", \"['Slow Motion']\\n\", \"['Drag Me Down']\\n\", \"['Truffle Butter']\\n\", \"['One Last Time']\\n\", \"['Chains']\\n\", \"['All Eyes on You']\\n\", \"['No Type']\\n\", \"['Riptide']\\n\", \"['Classic Man']\\n\", '\"[\"\"Ex\\'s & Oh\\'s\"\"]\"\\n', \"['Dear Future Husband']\\n\", \"['Marvin Gaye']\\n\", '\"[\"\"Like I\\'m Gonna Lose You\"\"]\"\\n', \"['Habits (Stay High)']\\n\", \"['The Hanging Tree']\\n\", \"['CoCo']\\n\", \"['Bang Bang']\\n\", \"['Lay Me Down']\\n\", \"['Tuesday']\\n\", \"['Hit the Quan']\\n\", \"['Downtown']\\n\", \"['House Party']\\n\", \"['Ayo']\\n\", \"['Kick the Dust Up']\\n\", \"['Blessings']\\n\", \"['Budapest']\\n\", \"['Chandelier']\\n\", \"['Heartbeat Song']\\n\", '\"[\"\"Don\\'t\"\"]\"\\n', \"['Ghost']\\n\", \"['Here']\\n\", \"['Waves']\\n\", \"['El PerdÃ³n']\\n\", \"['She Knows']\\n\", \"['Night Changes']\\n\", \"['Back to Back']\\n\", \"['How Deep Is Your Love']\\n\"]\n",
      "['song\\n', \"['Love Yourself']\\n\", \"['Sorry']\\n\", \"['One Dance']\\n\", \"['Work']\\n\", \"['Stressed Out']\\n\", \"['Panda']\\n\", \"['Hello']\\n\", '\"[\"\"Don\\'t Let Me Down\"\"]\"\\n', '\"[\"\"Can\\'t Stop the Feeling!\"\"]\"\\n', \"['Closer']\\n\", \"['Cheap Thrills']\\n\", \"['7 Years']\\n\", \"['Needed Me']\\n\", \"['My House']\\n\", \"['I Took a Pill in Ibiza']\\n\", \"['Work from Home']\\n\", \"['This Is What You Came For']\\n\", \"['Cake by the Ocean']\\n\", '\"[\\'Me', \"['Ride']\\n\", \"['Heathens']\\n\", \"['Pillowtalk']\\n\", \"['Stitches']\\n\", \"['Hotline Bling']\\n\", \"['Cold Water']\\n\", \"['Send My Love (To Your New Lover)']\\n\", \"['Roses']\\n\", \"['Treat You Better']\\n\", \"['Too Good']\\n\", \"['Low Life']\\n\", \"['What Do You Mean?']\\n\", \"['The Hills']\\n\", \"['Just Like Fire']\\n\", \"['Broccoli']\\n\", '\"[\"\"Don\\'t\"\"]\"\\n', \"['Dangerous Woman']\\n\", \"['Jumpman']\\n\", '\"[\\'I Hate U', \"['Here']\\n\", \"['Same Old Love']\\n\", \"['Controlla']\\n\", '\"[\"\"Like I\\'m Gonna Lose You\"\"]\"\\n', \"['One Call Away']\\n\", \"['Let It Go']\\n\", \"['No']\\n\", \"['Never Forget You']\\n\", \"['Let Me Love You']\\n\", '\"[\"\"Don\\'t Mind\"\"]\"\\n', \"['H.O.L.Y.']\\n\", '\"[\"\"We Don\\'t Talk Anymore\"\"]\"\\n', \"['Into You']\\n\", \"['Gold']\\n\", \"['Exchange']\\n\", \"['679']\\n\", \"['Oui']\\n\", \"['Hands to Myself']\\n\", \"['2 Phones']\\n\", \"['Starboy']\\n\", \"['For Free']\\n\", \"['Never Be Like You']\\n\", \"['In the Night']\\n\", \"['Me Too']\\n\", '\"[\"\"Ex\\'s & Oh\\'s\"\"]\"\\n', \"['Die a Happy Man']\\n\", \"['White Iverson']\\n\", \"['Close']\\n\", \"['Unsteady']\\n\", \"['Sucker for Pain']\\n\", \"['Down in the DM']\\n\", \"['Luv']\\n\", \"['Sorry']\\n\", '\"[\"\"Can\\'t Feel My Face\"\"]\"\\n', \"['Hymn for the Weekend']\\n\", \"['Say It']\\n\", \"['Antidote']\\n\", \"['Lost Boy']\\n\", \"['Side to Side']\\n\", '\"[\\'Sit Still', \"['Wildest Dreams']\\n\", \"['Middle']\\n\", \"['On My Mind']\\n\", \"['Pop Style']\\n\", \"['When We Were Young']\\n\", \"['Hide Away']\\n\", \"['Lean On']\\n\", \"['I Know What You Did Last Summer']\\n\", \"['All the Way Up']\\n\", \"['Watch Me']\\n\", \"['Back to Sleep']\\n\", \"['No Limit']\\n\", \"['Cut It']\\n\", \"['Really Really']\\n\", \"['All In My Head (Flex)']\\n\", \"['Starving']\\n\", \"['Adventure of a Lifetime']\\n\", \"['Humble and Kind']\\n\", \"['Wicked']\\n\", \"['Tiimmy Turner']\\n\", \"['See You Again']\\n\", \"['Perfect']\\n\"]\n",
      "['song\\n', \"['Shape of You']\\n\", \"['Despacito (Remix)']\\n\", '\"[\"\"That\\'s What I Like\"\"]\"\\n', \"['Humble']\\n\", \"['Something Just Like This']\\n\", \"['Bad and Boujee']\\n\", \"['Closer']\\n\", \"['Body Like a Back Road']\\n\", \"['Believer']\\n\", \"['Congratulations']\\n\", '\"[\"\"Say You Won\\'t Let Go\"\"]\"\\n', '\"[\"\"I\\'m the One\"\"]\"\\n', \"['XO Tour Llif3']\\n\", \"['Mask Off']\\n\", \"['Unforgettable']\\n\", \"['24K Magic']\\n\", \"['Stay']\\n\", \"['Wild Thoughts']\\n\", \"['Black Beatles']\\n\", \"['Starboy']\\n\", \"['Location']\\n\", \"['Attention']\\n\", '\"[\"\"There\\'s Nothing Holdin\\' Me Back\"\"]\"\\n', \"['Bodak Yellow']\\n\", \"['Redbone']\\n\", '\"[\"\"I Don\\'t Wanna Live Forever\"\"]\"\\n', '\"[\"\"It Ain\\'t Me\"\"]\"\\n', \"['iSpy']\\n\", \"['Issues']\\n\", \"['Scars to Your Beautiful']\\n\", \"['1-800-273-8255']\\n\", \"['Slow Hands']\\n\", \"['Love on the Brain']\\n\", \"['I Feel It Coming']\\n\", \"['Bounce Back']\\n\", \"['Strip That Down']\\n\", \"['Fake Love']\\n\", '\"[\"\"Don\\'t Wanna Know\"\"]\"\\n', \"['Look What You Made Me Do']\\n\", \"['Castle on the Hill']\\n\", \"['Bad Things']\\n\", \"['Paris']\\n\", \"['Side to Side']\\n\", \"['Rockabye']\\n\", \"['Feel It Still']\\n\", \"['Let Me Love You']\\n\", \"['Sorry Not Sorry']\\n\", \"['Bank Account']\\n\", '\"[\"\"Can\\'t Stop the Feeling!\"\"]\"\\n', \"['Mi Gente']\\n\", \"['Thunder']\\n\", \"['T-Shirt']\\n\", \"['Rake It Up']\\n\", \"['Mercy']\\n\", \"['Tunnel Vision']\\n\", \"['Rockstar']\\n\", '\"[\"\"In Case You Didn\\'t Know\"\"]\"\\n', \"['Heathens']\\n\", \"['Now or Never']\\n\", \"['Caroline']\\n\", \"['Rolex']\\n\", \"['DNA']\\n\", \"['Juju on That Beat (TZ Anthem)']\\n\", \"['Swang']\\n\", \"['Passionfruit']\\n\", \"['Loyalty']\\n\", \"['Praying']\\n\", \"['Goosebumps']\\n\", \"['Cold']\\n\", \"['Broccoli']\\n\", \"['Slide']\\n\", \"['What Ifs']\\n\", \"['Chained to the Rhythm']\\n\", \"['Feels']\\n\", \"['All Time Low']\\n\", \"['Hurricane']\\n\", \"['Too Good at Goodbyes']\\n\", \"['Young Dumb & Broke']\\n\", \"['Magnolia']\\n\", \"['Love Galore']\\n\", \"['Drowning']\\n\", \"['Starving']\\n\", \"['Both']\\n\", \"['What About Us']\\n\", \"['Swalla']\\n\", \"['Slippery']\\n\", \"['Sign of the Times']\\n\", \"['Water Under the Bridge']\\n\", \"['Malibu']\\n\", \"['Down']\\n\", \"['No Promises']\\n\", \"['Treat You Better']\\n\", \"['I Get the Bag']\\n\", \"['Small Town Boy']\\n\", \"['Everyday We Lit']\\n\", \"['Havana']\\n\", \"['What Lovers Do']\\n\", \"['Do Re Mi']\\n\", \"['Look at Me!']\\n\", \"['The Fighter']\\n\"]\n",
      "['song\\n', '\"[\"\"God\\'s Plan\"\"]\"\\n', \"['Perfect']\\n\", \"['Meant to Be']\\n\", \"['Havana']\\n\", \"['Rockstar']\\n\", \"['Psycho']\\n\", \"['I Like It']\\n\", \"['The Middle']\\n\", \"['In My Feelings']\\n\", \"['Girls Like You']\\n\", \"['Nice for What']\\n\", \"['Lucid Dreams']\\n\", \"['Better Now']\\n\", \"['Finesse']\\n\", '\"[\"\"Boo\\'d Up\"\"]\"\\n', \"['New Rules']\\n\", \"['Sad!']\\n\", \"['Never Be the Same']\\n\", \"['Love Lies']\\n\", \"['No Tears Left to Cry']\\n\", \"['Mine']\\n\", \"['Thunder']\\n\", \"['Look Alive']\\n\", \"['Delicate']\\n\", \"['Yes Indeed']\\n\", \"['Friends']\\n\", \"['Bad at Love']\\n\", \"['Taste']\\n\", \"['Let You Down']\\n\", \"['No Limit']\\n\", \"['Fefe']\\n\", \"['Tequila']\\n\", \"['Feel It Still']\\n\", \"['MotorSport']\\n\", \"['I Like Me Better']\\n\", \"['Youngblood']\\n\", \"['Whatever It Takes']\\n\", \"['Ric Flair Drip']\\n\", \"['I Fall Apart']\\n\", \"['Pray for Me']\\n\", \"['Back to You']\\n\", \"['Sicko Mode']\\n\", \"['Walk It Talk It']\\n\", \"['Gucci Gang']\\n\", \"['Him & I']\\n\", \"['In My Blood']\\n\", \"['All the Stars']\\n\", \"['Stir Fry']\\n\", \"['Too Good at Goodbyes']\\n\", \"['Love']\\n\", \"['This Is America']\\n\", \"['Nonstop']\\n\", \"['Heaven']\\n\", \"['Bodak Yellow']\\n\", \"['Freaky Friday']\\n\", \"['Gummo']\\n\", \"['Plug Walk']\\n\", \"['Wait']\\n\", \"['Be Careful']\\n\", \"['Wolves']\\n\", \"['Bartier Cardi']\\n\", \"['God Is a Woman']\\n\", \"['Big Bank']\\n\", \"['Sorry Not Sorry']\\n\", \"['How Long']\\n\", \"['Lights Down Low']\\n\", \"['Young Dumb & Broke']\\n\", \"['One Kiss']\\n\", \"['Natural']\\n\", \"['You Make It Easy']\\n\", \"['Shape of You']\\n\", \"['I Get the Bag']\\n\", \"['No Brainer']\\n\", \"['Plain Jane']\\n\", \"['Sky Walker']\\n\", \"['Marry Me']\\n\", \"['Eastside']\\n\", \"['Call Out My Name']\\n\", '\"[\"\"King\\'s Dead\"\"]\"\\n', \"['Happier']\\n\", \"['Te BotÃ©']\\n\", \"['Simple']\\n\", \"['Lemon']\\n\", \"['1-800-273-8255']\\n\", \"['Say Something']\\n\", '\"[\"\"I\\'m Upset\"\"]\"\\n', \"['Get Along']\\n\", \"['Moonlight']\\n\", \"['What Lovers Do']\\n\", \"['X']\\n\", \"['Outside Today']\\n\", \"['Trip']\\n\", \"['Dura']\\n\", \"['Changes']\\n\", \"['Mercy']\\n\", \"['One Number Away']\\n\", \"['Powerglide']\\n\", \"['IDGAF']\\n\", \"['Mi Gente']\\n\", \"['Believer']\\n\"]\n",
      "['song\\n', \"['Old Town Road']\\n\", \"['Sunflower']\\n\", \"['Without Me']\\n\", \"['Bad Guy']\\n\", \"['Wow']\\n\", \"['Happier']\\n\", \"['7 Rings']\\n\", \"['Talk']\\n\", \"['Sicko Mode']\\n\", \"['Sucker']\\n\", \"['High Hopes']\\n\", '\"[\\'Thank U', \"['Truth Hurts']\\n\", \"['Dancing with a Stranger']\\n\", \"['SeÃ±orita']\\n\", '\"[\"\"I Don\\'t Care\"\"]\"\\n', \"['Eastside']\\n\", \"['Going Bad']\\n\", \"['Shallow']\\n\", \"['Better']\\n\", \"['No Guidance']\\n\", \"['Girls Like You']\\n\", \"['Sweet but Psycho']\\n\", \"['Suge']\\n\", \"['Middle Child']\\n\", \"['Drip Too Hard']\\n\", \"['Someone You Loved']\\n\", \"['Ransom']\\n\", '\"[\"\"If I Can\\'t Have You\"\"]\"\\n', \"['Goodbyes']\\n\", \"['Zeze']\\n\", \"['Better Now']\\n\", \"['Youngblood']\\n\", \"['Money in the Grave']\\n\", \"['Speechless']\\n\", '\"[\"\"Break Up with Your Girlfriend', \"['Please Me']\\n\", \"['Money']\\n\", \"['You Need to Calm Down']\\n\", \"['Panini']\\n\", \"['Look Back at It']\\n\", \"['A Lot']\\n\", \"['Me!']\\n\", \"['Mia']\\n\", \"['Pop Out']\\n\", \"['Beautiful Crazy']\\n\", \"['Thotiana']\\n\", \"['Lucid Dreams']\\n\", \"['Mo Bamba']\\n\", \"['Beautiful People']\\n\", \"['Wake Up in the Sky']\\n\", \"['Whiskey Glasses']\\n\", '\"[\"\"God\\'s Country\"\"]\"\\n', \"['Be Alright']\\n\", \"['Pure Water']\\n\", \"['The Git Up']\\n\", \"['Taki Taki']\\n\", \"['Close to Me']\\n\", \"['Envy Me']\\n\", \"['You Say']\\n\", '\"[\\'Hey Look Ma', \"['Circles']\\n\", \"['Beer Never Broke My Heart']\\n\", \"['The London']\\n\", \"['Con Calma']\\n\", \"['Murder on My Mind']\\n\", '\"[\"\"When the Party\\'s Over\"\"]\"\\n', \"['Act Up']\\n\", \"['I Like It']\\n\", \"['Trampoline']\\n\", \"['Leave Me Alone']\\n\", \"['Breathin']\\n\", \"['Bury a Friend']\\n\", \"['Close Friends']\\n\", \"['Baby Shark']\\n\", \"['My Type']\\n\", '\"\"\"Worth It\"\"\"\\n', \"['Only Human']\\n\", '\"[\"\"Knockin\\' Boots\"\"]\"\\n', \"['Trip']\\n\", \"['Rumor']\\n\", \"['Swervin']\\n\", \"['How Do You Sleep?']\\n\", \"['Baby']\\n\", \"['Look What God Gave Her']\\n\", \"['Good as You']\\n\", \"['Clout']\\n\", \"['Love Lies']\\n\", \"['One Thing Right']\\n\", \"['Cash Shit']\\n\", \"['Tequila']\\n\", \"['Shotta Flow']\\n\", \"['Hot Girl Summer']\\n\", \"['Talk You Out of It']\\n\", \"['Beautiful']\\n\", \"['Eyes on You']\\n\", \"['All to Myself']\\n\", \"['Boyfriend']\\n\", \"['Walk Me Home']\\n\", \"['Robbery']\\n\"]\n"
     ]
    }
   ],
   "source": [
    "from spotipy.oauth2 import SpotifyClientCredentials\n",
    "username='tori.gehring'\n",
    "scope='user-top-read'\n",
    "token = util.prompt_for_user_token(username, scope, client_id='2de2fbd686064c6ea02e140430a8d587',\n",
    "                                   client_secret='e115cf9cca484156aa6f73680689c821',\n",
    "                                   redirect_uri='https://localhost:8889/callback/')\n",
    "\n",
    "if token:\n",
    "        sp = spotipy.Spotify(auth=token)\n",
    "        sp.trace = False\n",
    "        \n",
    "        # Given the song title in a csv file, find the track id for spotify and place it in a json file\n",
    "        for j in range(2015, 2020):\n",
    "            with open(\"C:/Users/victo/cs479/scripts/song_titles{}.csv\".format(j)) as csv_file:\n",
    "                lines = csv_file.readlines()\n",
    "                songs = []\n",
    "                for line in lines:\n",
    "                    data = line.split(',')\n",
    "                    songs.append(data[0])\n",
    "                print(songs)\n",
    "                for song in songs:\n",
    "                    results = sp.search(q=song, limit=1)\n",
    "                    substr = re.sub(r'\\W+', '', song)\n",
    "                    with open('spotify_song_id{}_{}.json'.format(j, substr), 'w') as outfile:\n",
    "                        json.dump(results, outfile)\n",
    "                        \n",
    "                    df = pandas.read_json('C:/Users/victo/cs479/spotify_song_id{}.json'.format(j))\n",
    "                    tid = []\n",
    "                    tid.append(df['tracks']['items'][0]['id'])\n",
    "                        \n",
    "                    for k in tid:\n",
    "                        res1 = sp.audio_features(k)\n",
    "                        res2 = sp.audio_analysis(k)\n",
    "                        with open('audio_features{}_{}.json'.format(j, substr), 'w') as outfile:\n",
    "                            json.dump(res1, outfile)\n",
    "                        with open('audio_analysis{}_{}.json'.format(j, substr), 'w') as outfile2:\n",
    "                            json.dump(res2, outfile2)\n",
    "    \n",
    "else:\n",
    "    print(\"Can't get token for\", username)\n"
   ]
  },
  {
   "cell_type": "code",
   "execution_count": null,
   "metadata": {},
   "outputs": [],
   "source": []
  },
  {
   "cell_type": "code",
   "execution_count": null,
   "metadata": {},
   "outputs": [],
   "source": []
  }
 ],
 "metadata": {
  "kernelspec": {
   "display_name": "Python 3",
   "language": "python",
   "name": "python3"
  },
  "language_info": {
   "codemirror_mode": {
    "name": "ipython",
    "version": 3
   },
   "file_extension": ".py",
   "mimetype": "text/x-python",
   "name": "python",
   "nbconvert_exporter": "python",
   "pygments_lexer": "ipython3",
   "version": "3.6.5"
  }
 },
 "nbformat": 4,
 "nbformat_minor": 2
}
