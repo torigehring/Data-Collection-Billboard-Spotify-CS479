{
 "cells": [
  {
   "cell_type": "code",
   "execution_count": 2,
   "metadata": {},
   "outputs": [],
   "source": [
    "# Using code from:\n",
    "# https://alexforrest.github.io/scraping-billboard-top-100-on-wikipedia.html\n",
    "# Owner: Alex Harlan\n",
    "\n",
    "%matplotlib inline\n",
    "import numpy as np\n",
    "import scipy as sp\n",
    "import pandas as pd\n",
    "import time\n",
    "import seaborn as sns\n",
    "\n",
    "import matplotlib as mpl\n",
    "import matplotlib.cm as cm\n",
    "import matplotlib.pyplot as plt\n",
    "\n",
    "\n",
    "pd.set_option('display.width', 500)\n",
    "pd.set_option('display.max_columns', 100)\n",
    "pd.set_option('display.notebook_repr_html', True)\n",
    "sns.set_style(\"whitegrid\")\n",
    "sns.set_context(\"poster\")"
   ]
  },
  {
   "cell_type": "code",
   "execution_count": 3,
   "metadata": {},
   "outputs": [],
   "source": [
    "import requests \n",
    "from bs4 import BeautifulSoup\n",
    "\n",
    "req = requests.get('http://en.wikipedia.org/wiki/Billboard_Year-End_Hot_100_singles_of_1970')\n",
    "page = req.text\n",
    "soup = BeautifulSoup(page, 'html.parser')\n",
    "tables_wikitable = soup.find_all('table', 'wikitable')\n",
    "rows = [row for row in tables_wikitable[0].find_all('tr')]\n",
    "\n",
    "\n",
    "def get_td(row):\n",
    "    return [td for td in row.find_all('td')]\n",
    "\n",
    "def get_rank(td):\n",
    "    return td[0].string\n",
    "\n",
    "def get_url(td):\n",
    "    return td[2].a['href']\n",
    "\n",
    "def get_band_singer(td):\n",
    "    return td[2].a.string\n",
    "\n",
    "def get_title(td):\n",
    "    if td[1].a:\n",
    "        return td[1].a['title']\n",
    "    else:\n",
    "        return td[1].string\n",
    "    \n",
    "    \n",
    "#formating test\n",
    "td_list = [get_td(row)for row in rows[1:]]\n",
    "list_of_dicts = [{'url':get_url(td), 'ranking':get_rank(td), \n",
    "                'band_singer': get_band_singer(td), 'title':get_title(td)} \n",
    "                for td in td_list]"
   ]
  },
  {
   "cell_type": "code",
   "execution_count": 4,
   "metadata": {},
   "outputs": [],
   "source": [
    "#generate list of urls \n",
    "urls = ['http://en.wikipedia.org/wiki/Billboard_Year-End_Hot_100_singles_of_{0}'.format(str(i)) for i in range(1970, 2020)]\n",
    "\n",
    "def get_text(urls):\n",
    "    \"\"\"\"\"\"\n",
    "    yearstext = {}\n",
    "    for url in urls:\n",
    "        req = requests.get(url)\n",
    "        yearstext[url.split('_')[-1]] = req.text\n",
    "        time.sleep(1)\n",
    "    return yearstext\n",
    "\n",
    "yearstext = get_text(urls)"
   ]
  },
  {
   "cell_type": "code",
   "execution_count": 5,
   "metadata": {},
   "outputs": [],
   "source": [
    "def parse_year(the_year, yeartext_dict):\n",
    "    \"\"\"\n",
    "    Inputs\n",
    "    ------\n",
    "    the_year: \n",
    "    yeartext_dict: a dictionary with keys as integer years and values the downloaded web pages \n",
    "    from wikipedia for that year.\n",
    "   \n",
    "    Returns\n",
    "    -------\n",
    "\n",
    "    a list of dictionaries corresponding to a single, with dictionaries formated:\n",
    "\n",
    "        band_singer: a list of bands/singers who made this single\n",
    "        song: a list of the titles of songs on this single\n",
    "        songurl: a list of the same size as song which has urls for the songs on the single \n",
    "            (see point 3 above)\n",
    "        ranking: ranking of the single\n",
    "        titletext: the contents of the table cell\n",
    "        band_singer: a list of bands or singers on this single\n",
    "        url: a list of wikipedia singer/band urls on this single: only put in the part \n",
    "        of the url from /wiki onwards\n",
    "    \n",
    "\"\"\"\n",
    "\n",
    "    soup = BeautifulSoup(yeartext_dict[str(the_year)], 'html.parser')\n",
    "    tables_wikitable = soup.find_all('table', 'wikitable')\n",
    "    rows = [row for row in tables_wikitable[0].find_all('tr')][1:]\n",
    "    yearinfo = [get_single_dict(row) for row in rows]\n",
    "    return yearinfo\n",
    "\n",
    "\n",
    "\n",
    "def get_single_dict(row):\n",
    "    \"\"\"\n",
    "    input: list of contents in single row\n",
    "    output: dictionary of content from single row\n",
    "    \"\"\"\n",
    "    \n",
    "    children = [child for child in row.children]\n",
    "    children = list(filter(lambda x: x != '\\n', children))\n",
    "    ranking = children[0].string\n",
    "    band_singers = children[2].find_all('a')\n",
    "    band_singer = [band.string for band in band_singers]\n",
    "    url = [url['href'] for url in band_singers]\n",
    "    songs = children[1].find_all('a')\n",
    "    songurl = [song['href'] for song in songs]\n",
    "    \n",
    "    #handles edge cases where row content is missing\n",
    "    if songurl == []:\n",
    "        songurl = [None]\n",
    "    song = [song.string for song in songs]\n",
    "    if not song:\n",
    "        song = children[1].string\n",
    "        \n",
    "    if type(song) == list:\n",
    "        title = '/'.join(str(s) for s in song)\n",
    "    else:\n",
    "        title = song\n",
    "\n",
    "    single_dict = {'band_singer': band_singer, 'ranking': ranking, 'song': song,\n",
    "                   'songurl':songurl, 'titletext':title, 'url': url}\n",
    "    return single_dict"
   ]
  },
  {
   "cell_type": "code",
   "execution_count": 6,
   "metadata": {},
   "outputs": [],
   "source": [
    "#test to make sure parse_year runs correctly\n",
    "\n",
    "yearinfo = parse_year(1997, yearstext)\n"
   ]
  },
  {
   "cell_type": "code",
   "execution_count": 7,
   "metadata": {},
   "outputs": [],
   "source": [
    "import json"
   ]
  },
  {
   "cell_type": "code",
   "execution_count": 8,
   "metadata": {},
   "outputs": [],
   "source": [
    "for year in range(1970, 2020):\n",
    "    yearinfo = parse_year(year, yearstext)\n",
    "    fd = open(\"data/{0}info.json\".format(str(year)),\"w\")\n",
    "    json.dump(yearinfo, fd)\n",
    "    fd.close()\n",
    "  \n",
    "    #create DataFrame for Billboard Hot 100's: 1970-2014\n",
    "    with open(\"data/{0}info.json\".format(str(year)), \"r\") as f:\n",
    "        curyearinfo = json.load(f)\n",
    "       \n",
    "        if year == 1970:\n",
    "            \n",
    "            flatframe = pd.DataFrame(curyearinfo)\n",
    "            flatframe['year'] = year\n",
    "        else:\n",
    "            year_df = pd.DataFrame(curyearinfo)\n",
    "            year_df['year'] = year\n",
    "            flatframe = flatframe.append(year_df)\n",
    "\n",
    "    "
   ]
  },
  {
   "cell_type": "code",
   "execution_count": 9,
   "metadata": {},
   "outputs": [],
   "source": [
    "flatframe.reset_index(inplace = True)"
   ]
  },
  {
   "cell_type": "code",
   "execution_count": 10,
   "metadata": {},
   "outputs": [],
   "source": [
    "\n",
    "cols = ['band_singer', 'song', 'songurl', 'url']\n",
    "for col in cols:\n",
    "    flatframe[col] = flatframe[col].apply(lambda x: x[0] if type(x) == list and len(x)==1 else x) \n",
    "    \n",
    "bands_expanded = flatframe.apply(lambda x: pd.Series(x['band_singer']),axis=1).stack().reset_index(level=1, drop=True)\n",
    "urls_expanded = flatframe.apply(lambda x: pd.Series(x['url']),axis=1).stack().reset_index(level=1, drop=True)\n",
    "df_bandrows = pd.concat([bands_expanded, urls_expanded], axis = 1)\n",
    "df_bandrows.columns = ['band_singer', 'url']\n",
    "\n",
    "flatframe = flatframe.drop(df_bandrows.columns, axis=1).join(df_bandrows)\n",
    "#clean rankings, strip new line\n",
    "flatframe.ranking = flatframe.ranking.str.strip('\\n')"
   ]
  },
  {
   "cell_type": "code",
   "execution_count": 11,
   "metadata": {},
   "outputs": [],
   "source": [
    "newframe =flatframe[flatframe.song.apply(lambda x: type(x) == list)]\n",
    "flatframe_dropped = flatframe[flatframe.song.apply(lambda x: type(x) != list)]\n",
    "\n",
    "songs_expanded = newframe.apply(lambda x: pd.Series(x['song']),axis=1).stack().reset_index(level=1, drop=True)\n",
    "songurls_expanded = newframe.apply(lambda x: pd.Series(x['songurl']),axis=1).stack().reset_index(level=1, drop=True)\n",
    "\n",
    "\n",
    "df_expanded = pd.concat([songs_expanded, songurls_expanded], axis = 1)\n",
    "df_expanded.columns = ['song', 'songurl']\n",
    "\n",
    "flatframe = flatframe.drop(df_expanded.columns, axis = 1).join(df_expanded, how = 'inner')\n",
    "flatframe = pd.concat([flatframe_dropped, flatframe], sort = True)\n",
    "flatframe = flatframe[['ranking', 'band_singer','song', 'songurl', \n",
    "                         'titletext', 'url', 'year']]"
   ]
  },
  {
   "cell_type": "code",
   "execution_count": 12,
   "metadata": {},
   "outputs": [],
   "source": [
    "flatframe = flatframe[~flatframe.ranking.isna()]"
   ]
  },
  {
   "cell_type": "code",
   "execution_count": 13,
   "metadata": {},
   "outputs": [],
   "source": [
    "#handle case of ranking ties\n",
    "flatframe.loc[:,0] = flatframe.ranking.apply(lambda x: '0' if x == 'Tie' else x)\n",
    "\n",
    "flatframe = flatframe.astype({'ranking': int, 'url': str})\n",
    "tied_rankings = flatframe[flatframe.ranking == 0].index\n",
    "tied_values = [38, 55,86, 92, 92]\n",
    "for i, tie in enumerate(tied_rankings):\n",
    "    flatframe.loc[tie, 'ranking' ] = tied_values[i]"
   ]
  },
  {
   "cell_type": "code",
   "execution_count": 14,
   "metadata": {},
   "outputs": [],
   "source": [
    "with open(\"data/2019info.json\", \"r\") as fd:\n",
    "    yearinfo = json.load(fd)"
   ]
  },
  {
   "cell_type": "code",
   "execution_count": 15,
   "metadata": {},
   "outputs": [
    {
     "data": {
      "image/png": "[encoded data removed]",
      "text/plain": [
       "<Figure size 720x432 with 1 Axes>"
      ]
     },
     "metadata": {},
     "output_type": "display_data"
    }
   ],
   "source": [
    "quality_counts = flatframe.band_singer.value_counts() \n",
    "\n",
    "quality_bands = quality_counts[quality_counts.values>15]\n",
    "\n",
    "f = plt.figure(figsize = (10,6), frameon = False)\n",
    "sns.barplot(quality_bands.index, quality_bands.values, color = '#528ff2')\n",
    "xticks = plt.xticks(rotation=90)\n",
    "title = plt.title(\"Number of Billboard Top 100 Occurrences by Artist \");\n"
   ]
  },
  {
   "cell_type": "code",
   "execution_count": null,
   "metadata": {},
   "outputs": [],
   "source": []
  },
  {
   "cell_type": "code",
   "execution_count": null,
   "metadata": {},
   "outputs": [],
   "source": []
  }
 ],
 "metadata": {
  "kernelspec": {
   "display_name": "Python 3",
   "language": "python",
   "name": "python3"
  },
  "language_info": {
   "codemirror_mode": {
    "name": "ipython",
    "version": 3
   },
   "file_extension": ".py",
   "mimetype": "text/x-python",
   "name": "python",
   "nbconvert_exporter": "python",
   "pygments_lexer": "ipython3",
   "version": "3.6.5"
  }
 },
 "nbformat": 4,
 "nbformat_minor": 2
}
